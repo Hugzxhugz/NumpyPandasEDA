{
 "cells": [
  {
   "cell_type": "markdown",
   "source": [
    "NUMPY"
   ],
   "metadata": {
    "collapsed": false
   }
  },
  {
   "cell_type": "code",
   "execution_count": 237,
   "outputs": [],
   "source": [
    "import numpy as np"
   ],
   "metadata": {
    "collapsed": false
   }
  },
  {
   "cell_type": "markdown",
   "source": [
    "1. Konstruera en array med 10 kolumner och 5 rader av float-tal. Inget tal får vara\n",
    "samma."
   ],
   "metadata": {
    "collapsed": false
   }
  },
  {
   "cell_type": "code",
   "execution_count": 238,
   "outputs": [
    {
     "data": {
      "text/plain": "array([[0.49903737, 0.18568691, 0.9349757 , 0.80857616, 0.57615757,\n        0.60896852, 0.99482863, 0.12650334, 0.2479029 , 0.45852213],\n       [0.68218562, 0.08499542, 0.82646618, 0.62234213, 0.63723659,\n        0.47053894, 0.17322689, 0.97116965, 0.00262136, 0.63335814],\n       [0.31744337, 0.4615471 , 0.45360562, 0.13130943, 0.05807898,\n        0.35896345, 0.4748774 , 0.94941334, 0.27787468, 0.27978937],\n       [0.79406563, 0.92466938, 0.55450749, 0.49356146, 0.72778781,\n        0.49462448, 0.9612709 , 0.20287547, 0.43235183, 0.61394738],\n       [0.29778067, 0.25591868, 0.78687828, 0.49643643, 0.67909402,\n        0.61926302, 0.64274306, 0.78748152, 0.50843424, 0.11777433]])"
     },
     "execution_count": 238,
     "metadata": {},
     "output_type": "execute_result"
    }
   ],
   "source": [
    "array1 = np.random.rand(5,10).astype(float)\n",
    "array1"
   ],
   "metadata": {
    "collapsed": false
   }
  },
  {
   "cell_type": "markdown",
   "source": [
    "2. Konstruera en ny array till med 10 kolumner och 7 rader av float-tal. Den skall inte\n",
    "innehålla samma tal som den från förra uppgiften."
   ],
   "metadata": {
    "collapsed": false
   }
  },
  {
   "cell_type": "code",
   "execution_count": 239,
   "outputs": [
    {
     "data": {
      "text/plain": "array([[0.34135354, 0.21961398, 0.82067716, 0.12004327, 0.4612658 ,\n        0.50258632, 0.69522675, 0.87945832, 0.69085631, 0.4415976 ],\n       [0.40314893, 0.29080872, 0.86273621, 0.33247546, 0.64456347,\n        0.5359206 , 0.67709136, 0.69379412, 0.64550726, 0.00232872],\n       [0.45329792, 0.40809128, 0.69663505, 0.23879332, 0.62612079,\n        0.73801684, 0.29445048, 0.20027341, 0.7505111 , 0.33212961],\n       [0.15886594, 0.48412088, 0.39724839, 0.53412204, 0.90362704,\n        0.03835315, 0.57478944, 0.65195216, 0.32449784, 0.96659647],\n       [0.80600769, 0.8275283 , 0.75821303, 0.6434904 , 0.78245495,\n        0.30732852, 0.68574585, 0.40394409, 0.04720648, 0.85641278],\n       [0.23233189, 0.84500538, 0.19143827, 0.06368056, 0.23738603,\n        0.45944073, 0.44349132, 0.19972566, 0.56855748, 0.72532071],\n       [0.86292658, 0.32493546, 0.14993676, 0.06995478, 0.2306641 ,\n        0.75529413, 0.99604483, 0.84638934, 0.9361892 , 0.28406553]])"
     },
     "execution_count": 239,
     "metadata": {},
     "output_type": "execute_result"
    }
   ],
   "source": [
    "array2 = np.random.rand(7,10).astype(float)\n",
    "array2"
   ],
   "metadata": {
    "collapsed": false
   }
  },
  {
   "cell_type": "markdown",
   "source": [
    "3. Gör om de två arrayerna från föregående uppgifter så att de har 5 kolumner, med\n",
    "som så många extra rader som behövs."
   ],
   "metadata": {
    "collapsed": false
   }
  },
  {
   "cell_type": "code",
   "execution_count": 240,
   "outputs": [
    {
     "data": {
      "text/plain": "array([[0.49903737, 0.18568691, 0.9349757 , 0.80857616, 0.57615757],\n       [0.60896852, 0.99482863, 0.12650334, 0.2479029 , 0.45852213],\n       [0.68218562, 0.08499542, 0.82646618, 0.62234213, 0.63723659],\n       [0.47053894, 0.17322689, 0.97116965, 0.00262136, 0.63335814],\n       [0.31744337, 0.4615471 , 0.45360562, 0.13130943, 0.05807898],\n       [0.35896345, 0.4748774 , 0.94941334, 0.27787468, 0.27978937],\n       [0.79406563, 0.92466938, 0.55450749, 0.49356146, 0.72778781],\n       [0.49462448, 0.9612709 , 0.20287547, 0.43235183, 0.61394738],\n       [0.29778067, 0.25591868, 0.78687828, 0.49643643, 0.67909402],\n       [0.61926302, 0.64274306, 0.78748152, 0.50843424, 0.11777433]])"
     },
     "execution_count": 240,
     "metadata": {},
     "output_type": "execute_result"
    }
   ],
   "source": [
    "res_array1 = np.reshape(array1, (-1, 5), order= \"c\")\n",
    "res_array1"
   ],
   "metadata": {
    "collapsed": false
   }
  },
  {
   "cell_type": "code",
   "execution_count": 241,
   "outputs": [
    {
     "data": {
      "text/plain": "array([[0.34135354, 0.21961398, 0.82067716, 0.12004327, 0.4612658 ],\n       [0.50258632, 0.69522675, 0.87945832, 0.69085631, 0.4415976 ],\n       [0.40314893, 0.29080872, 0.86273621, 0.33247546, 0.64456347],\n       [0.5359206 , 0.67709136, 0.69379412, 0.64550726, 0.00232872],\n       [0.45329792, 0.40809128, 0.69663505, 0.23879332, 0.62612079],\n       [0.73801684, 0.29445048, 0.20027341, 0.7505111 , 0.33212961],\n       [0.15886594, 0.48412088, 0.39724839, 0.53412204, 0.90362704],\n       [0.03835315, 0.57478944, 0.65195216, 0.32449784, 0.96659647],\n       [0.80600769, 0.8275283 , 0.75821303, 0.6434904 , 0.78245495],\n       [0.30732852, 0.68574585, 0.40394409, 0.04720648, 0.85641278],\n       [0.23233189, 0.84500538, 0.19143827, 0.06368056, 0.23738603],\n       [0.45944073, 0.44349132, 0.19972566, 0.56855748, 0.72532071],\n       [0.86292658, 0.32493546, 0.14993676, 0.06995478, 0.2306641 ],\n       [0.75529413, 0.99604483, 0.84638934, 0.9361892 , 0.28406553]])"
     },
     "execution_count": 241,
     "metadata": {},
     "output_type": "execute_result"
    }
   ],
   "source": [
    "res_array2 = np.reshape(array2, (-1,5), order=\"c\")\n",
    "res_array2"
   ],
   "metadata": {
    "collapsed": false
   }
  },
  {
   "cell_type": "markdown",
   "source": [
    "4. Ta nu de två arrayerna från de föregående uppgifterna och stapla ihop dem till en\n",
    "array som fortfarande har fem kolumner."
   ],
   "metadata": {
    "collapsed": false
   }
  },
  {
   "cell_type": "code",
   "execution_count": 242,
   "outputs": [
    {
     "data": {
      "text/plain": "array([[0.49903737, 0.18568691, 0.9349757 , 0.80857616, 0.57615757],\n       [0.60896852, 0.99482863, 0.12650334, 0.2479029 , 0.45852213],\n       [0.68218562, 0.08499542, 0.82646618, 0.62234213, 0.63723659],\n       [0.47053894, 0.17322689, 0.97116965, 0.00262136, 0.63335814],\n       [0.31744337, 0.4615471 , 0.45360562, 0.13130943, 0.05807898],\n       [0.35896345, 0.4748774 , 0.94941334, 0.27787468, 0.27978937],\n       [0.79406563, 0.92466938, 0.55450749, 0.49356146, 0.72778781],\n       [0.49462448, 0.9612709 , 0.20287547, 0.43235183, 0.61394738],\n       [0.29778067, 0.25591868, 0.78687828, 0.49643643, 0.67909402],\n       [0.61926302, 0.64274306, 0.78748152, 0.50843424, 0.11777433],\n       [0.34135354, 0.21961398, 0.82067716, 0.12004327, 0.4612658 ],\n       [0.50258632, 0.69522675, 0.87945832, 0.69085631, 0.4415976 ],\n       [0.40314893, 0.29080872, 0.86273621, 0.33247546, 0.64456347],\n       [0.5359206 , 0.67709136, 0.69379412, 0.64550726, 0.00232872],\n       [0.45329792, 0.40809128, 0.69663505, 0.23879332, 0.62612079],\n       [0.73801684, 0.29445048, 0.20027341, 0.7505111 , 0.33212961],\n       [0.15886594, 0.48412088, 0.39724839, 0.53412204, 0.90362704],\n       [0.03835315, 0.57478944, 0.65195216, 0.32449784, 0.96659647],\n       [0.80600769, 0.8275283 , 0.75821303, 0.6434904 , 0.78245495],\n       [0.30732852, 0.68574585, 0.40394409, 0.04720648, 0.85641278],\n       [0.23233189, 0.84500538, 0.19143827, 0.06368056, 0.23738603],\n       [0.45944073, 0.44349132, 0.19972566, 0.56855748, 0.72532071],\n       [0.86292658, 0.32493546, 0.14993676, 0.06995478, 0.2306641 ],\n       [0.75529413, 0.99604483, 0.84638934, 0.9361892 , 0.28406553]])"
     },
     "execution_count": 242,
     "metadata": {},
     "output_type": "execute_result"
    }
   ],
   "source": [
    "merged_res_array = np.concatenate((res_array1, res_array2))\n",
    "merged_res_array"
   ],
   "metadata": {
    "collapsed": false
   }
  },
  {
   "cell_type": "markdown",
   "source": [
    "5. Ändra ordningen på kolumnerna så att de kommer i ordningen kolumn5, kolumn3,\n",
    "kolumn4, kolumn1, kolumn2."
   ],
   "metadata": {
    "collapsed": false
   }
  },
  {
   "cell_type": "code",
   "execution_count": 243,
   "outputs": [
    {
     "data": {
      "text/plain": "array([[0.57615757, 0.9349757 , 0.80857616, 0.49903737, 0.18568691],\n       [0.45852213, 0.12650334, 0.2479029 , 0.60896852, 0.99482863],\n       [0.63723659, 0.82646618, 0.62234213, 0.68218562, 0.08499542],\n       [0.63335814, 0.97116965, 0.00262136, 0.47053894, 0.17322689],\n       [0.05807898, 0.45360562, 0.13130943, 0.31744337, 0.4615471 ],\n       [0.27978937, 0.94941334, 0.27787468, 0.35896345, 0.4748774 ],\n       [0.72778781, 0.55450749, 0.49356146, 0.79406563, 0.92466938],\n       [0.61394738, 0.20287547, 0.43235183, 0.49462448, 0.9612709 ],\n       [0.67909402, 0.78687828, 0.49643643, 0.29778067, 0.25591868],\n       [0.11777433, 0.78748152, 0.50843424, 0.61926302, 0.64274306],\n       [0.4612658 , 0.82067716, 0.12004327, 0.34135354, 0.21961398],\n       [0.4415976 , 0.87945832, 0.69085631, 0.50258632, 0.69522675],\n       [0.64456347, 0.86273621, 0.33247546, 0.40314893, 0.29080872],\n       [0.00232872, 0.69379412, 0.64550726, 0.5359206 , 0.67709136],\n       [0.62612079, 0.69663505, 0.23879332, 0.45329792, 0.40809128],\n       [0.33212961, 0.20027341, 0.7505111 , 0.73801684, 0.29445048],\n       [0.90362704, 0.39724839, 0.53412204, 0.15886594, 0.48412088],\n       [0.96659647, 0.65195216, 0.32449784, 0.03835315, 0.57478944],\n       [0.78245495, 0.75821303, 0.6434904 , 0.80600769, 0.8275283 ],\n       [0.85641278, 0.40394409, 0.04720648, 0.30732852, 0.68574585],\n       [0.23738603, 0.19143827, 0.06368056, 0.23233189, 0.84500538],\n       [0.72532071, 0.19972566, 0.56855748, 0.45944073, 0.44349132],\n       [0.2306641 , 0.14993676, 0.06995478, 0.86292658, 0.32493546],\n       [0.28406553, 0.84638934, 0.9361892 , 0.75529413, 0.99604483]])"
     },
     "execution_count": 243,
     "metadata": {},
     "output_type": "execute_result"
    }
   ],
   "source": [
    "new_merged_res_array = merged_res_array[:, [4,2,3,0,1]]\n",
    "new_merged_res_array"
   ],
   "metadata": {
    "collapsed": false
   }
  },
  {
   "cell_type": "markdown",
   "source": [
    "Pandas"
   ],
   "metadata": {
    "collapsed": false
   }
  },
  {
   "cell_type": "code",
   "execution_count": 244,
   "outputs": [],
   "source": [
    "import pandas as pd\n",
    "assaults = pd.read_csv(\"assults.csv\")"
   ],
   "metadata": {
    "collapsed": false
   }
  },
  {
   "cell_type": "markdown",
   "source": [
    "1. Hur många regioner finns med i data? Regionerna finns under ”Region_2013_label”."
   ],
   "metadata": {
    "collapsed": false
   }
  },
  {
   "cell_type": "code",
   "execution_count": 245,
   "outputs": [
    {
     "name": "stdout",
     "output_type": "stream",
     "text": [
      "Number of regions: 17\n"
     ]
    }
   ],
   "source": [
    "num_regions = assaults[\"Region_2013_label\"].nunique()\n",
    "print(\"Number of regions:\", num_regions)"
   ],
   "metadata": {
    "collapsed": false
   }
  },
  {
   "cell_type": "markdown",
   "source": [
    "2. Lista regionerna i bokstavsordning."
   ],
   "metadata": {
    "collapsed": false
   }
  },
  {
   "cell_type": "code",
   "execution_count": 246,
   "outputs": [
    {
     "name": "stdout",
     "output_type": "stream",
     "text": [
      "Regions in alphabetical order:\n"
     ]
    },
    {
     "data": {
      "text/plain": "array(['Area Outside Region', 'Auckland Region', 'Bay of Plenty Region',\n       'Canterbury Region', 'Gisborne Region', \"Hawke's Bay Region\",\n       'Manawatu-Wanganui Region', 'Marlborough Region', 'Nelson Region',\n       'Northland Region', 'Otago Region', 'Southland Region',\n       'Taranaki Region', 'Tasman Region', 'Waikato Region',\n       'Wellington Region', 'West Coast Region'], dtype=object)"
     },
     "execution_count": 246,
     "metadata": {},
     "output_type": "execute_result"
    }
   ],
   "source": [
    "region_sorted_name = assaults[\"Region_2013_label\"].sort_values().unique()\n",
    "print(\"Regions in alphabetical order:\")\n",
    "region_sorted_name"
   ],
   "metadata": {
    "collapsed": false
   }
  },
  {
   "cell_type": "markdown",
   "source": [
    "3. Vad var invånarantalet i varje region i mitten på år 2015? Använd Pandas för att visa."
   ],
   "metadata": {
    "collapsed": false
   }
  },
  {
   "cell_type": "code",
   "execution_count": 247,
   "outputs": [
    {
     "name": "stdout",
     "output_type": "stream",
     "text": [
      "Population per region in 2015:\n"
     ]
    },
    {
     "data": {
      "text/plain": "Region_2013_label\nArea Outside Region             610\nAuckland Region             1569890\nBay of Plenty Region         287130\nCanterbury Region            586310\nGisborne Region               47370\nHawke's Bay Region           160010\nManawatu-Wanganui Region     234460\nMarlborough Region            45340\nNelson Region                 49940\nNorthland Region             168320\nOtago Region                 215030\nSouthland Region              97190\nTaranaki Region              115760\nTasman Region                 49500\nWaikato Region               439000\nWellington Region            496890\nWest Coast Region             32700\nName: Population_mid_point_2015, dtype: int64"
     },
     "execution_count": 247,
     "metadata": {},
     "output_type": "execute_result"
    }
   ],
   "source": [
    "population = assaults.groupby(\"Region_2013_label\")[\"Population_mid_point_2015\"].sum()\n",
    "print(\"Population per region in 2015:\")\n",
    "population"
   ],
   "metadata": {
    "collapsed": false
   }
  },
  {
   "cell_type": "markdown",
   "source": [
    "4. Hur många brott begicks i varje region år 2015? Ni hittar brotten i kolumnen\n",
    "”Victimisations_calendar_year_2015”."
   ],
   "metadata": {
    "collapsed": false
   }
  },
  {
   "cell_type": "code",
   "execution_count": 248,
   "outputs": [
    {
     "name": "stdout",
     "output_type": "stream",
     "text": [
      "Crimes committed per region in 2015:\n"
     ]
    },
    {
     "data": {
      "text/plain": "Region_2013_label\nArea Outside Region            0\nAuckland Region             8010\nBay of Plenty Region        1751\nCanterbury Region           2942\nGisborne Region              436\nHawke's Bay Region          1068\nManawatu-Wanganui Region    1270\nMarlborough Region           209\nNelson Region                357\nNorthland Region             905\nOtago Region                1142\nSouthland Region             381\nTaranaki Region              493\nTasman Region                161\nWaikato Region              2330\nWellington Region           2459\nWest Coast Region            121\nName: Victimisations_calendar_year_2015, dtype: int64"
     },
     "execution_count": 248,
     "metadata": {},
     "output_type": "execute_result"
    }
   ],
   "source": [
    "crimes = assaults.groupby(\"Region_2013_label\")[\"Victimisations_calendar_year_2015\"].sum()\n",
    "print(\"Crimes committed per region in 2015:\")\n",
    "crimes"
   ],
   "metadata": {
    "collapsed": false
   }
  },
  {
   "cell_type": "markdown",
   "source": [
    "5. Visa de 10 områden med de högsta antalet överfall. Områden är ”Area_unit_2013_label”."
   ],
   "metadata": {
    "collapsed": false
   }
  },
  {
   "cell_type": "code",
   "execution_count": 249,
   "outputs": [
    {
     "name": "stdout",
     "output_type": "stream",
     "text": [
      "Top 10 areas with the highest assaults:\n"
     ]
    },
    {
     "data": {
      "text/plain": "              Area_unit_2013_label  Victimisations_calendar_year_2015\n0            Auckland Central West                                550\n1  Willis Street-Cambridge Terrace                                447\n2                 Hamilton Central                                380\n3            Auckland Central East                                375\n4                 Cathedral Square                                305\n5             Auckland Harbourside                                253\n6                  Manukau Central                                192\n7         Palmerston North Central                                190\n8                           Kuirau                                168\n9                 Tauranga Central                                167",
      "text/html": "<div>\n<style scoped>\n    .dataframe tbody tr th:only-of-type {\n        vertical-align: middle;\n    }\n\n    .dataframe tbody tr th {\n        vertical-align: top;\n    }\n\n    .dataframe thead th {\n        text-align: right;\n    }\n</style>\n<table border=\"1\" class=\"dataframe\">\n  <thead>\n    <tr style=\"text-align: right;\">\n      <th></th>\n      <th>Area_unit_2013_label</th>\n      <th>Victimisations_calendar_year_2015</th>\n    </tr>\n  </thead>\n  <tbody>\n    <tr>\n      <th>0</th>\n      <td>Auckland Central West</td>\n      <td>550</td>\n    </tr>\n    <tr>\n      <th>1</th>\n      <td>Willis Street-Cambridge Terrace</td>\n      <td>447</td>\n    </tr>\n    <tr>\n      <th>2</th>\n      <td>Hamilton Central</td>\n      <td>380</td>\n    </tr>\n    <tr>\n      <th>3</th>\n      <td>Auckland Central East</td>\n      <td>375</td>\n    </tr>\n    <tr>\n      <th>4</th>\n      <td>Cathedral Square</td>\n      <td>305</td>\n    </tr>\n    <tr>\n      <th>5</th>\n      <td>Auckland Harbourside</td>\n      <td>253</td>\n    </tr>\n    <tr>\n      <th>6</th>\n      <td>Manukau Central</td>\n      <td>192</td>\n    </tr>\n    <tr>\n      <th>7</th>\n      <td>Palmerston North Central</td>\n      <td>190</td>\n    </tr>\n    <tr>\n      <th>8</th>\n      <td>Kuirau</td>\n      <td>168</td>\n    </tr>\n    <tr>\n      <th>9</th>\n      <td>Tauranga Central</td>\n      <td>167</td>\n    </tr>\n  </tbody>\n</table>\n</div>"
     },
     "execution_count": 249,
     "metadata": {},
     "output_type": "execute_result"
    }
   ],
   "source": [
    "top_10_assaults = assaults.sort_values(\n",
    "    \"Victimisations_calendar_year_2015\", ascending= False).head(10)\n",
    "\n",
    "print(\"Top 10 areas with the highest assaults:\")\n",
    "top_10_assaults[[\"Area_unit_2013_label\", \"Victimisations_calendar_year_2015\"]]"
   ],
   "metadata": {
    "collapsed": false
   }
  },
  {
   "cell_type": "code",
   "execution_count": 250,
   "outputs": [
    {
     "name": "stdout",
     "output_type": "stream",
     "text": [
      "Top 10 areas with the highest assaults:\n"
     ]
    },
    {
     "data": {
      "text/plain": "              Area_unit_2013_label  Victimisations_calendar_year_2015\n0            Auckland Central West                                550\n1  Willis Street-Cambridge Terrace                                447\n2                 Hamilton Central                                380\n3            Auckland Central East                                375\n4                 Cathedral Square                                305\n5             Auckland Harbourside                                253\n6                  Manukau Central                                192\n7         Palmerston North Central                                190\n8                           Kuirau                                168\n9                 Tauranga Central                                167",
      "text/html": "<div>\n<style scoped>\n    .dataframe tbody tr th:only-of-type {\n        vertical-align: middle;\n    }\n\n    .dataframe tbody tr th {\n        vertical-align: top;\n    }\n\n    .dataframe thead th {\n        text-align: right;\n    }\n</style>\n<table border=\"1\" class=\"dataframe\">\n  <thead>\n    <tr style=\"text-align: right;\">\n      <th></th>\n      <th>Area_unit_2013_label</th>\n      <th>Victimisations_calendar_year_2015</th>\n    </tr>\n  </thead>\n  <tbody>\n    <tr>\n      <th>0</th>\n      <td>Auckland Central West</td>\n      <td>550</td>\n    </tr>\n    <tr>\n      <th>1</th>\n      <td>Willis Street-Cambridge Terrace</td>\n      <td>447</td>\n    </tr>\n    <tr>\n      <th>2</th>\n      <td>Hamilton Central</td>\n      <td>380</td>\n    </tr>\n    <tr>\n      <th>3</th>\n      <td>Auckland Central East</td>\n      <td>375</td>\n    </tr>\n    <tr>\n      <th>4</th>\n      <td>Cathedral Square</td>\n      <td>305</td>\n    </tr>\n    <tr>\n      <th>5</th>\n      <td>Auckland Harbourside</td>\n      <td>253</td>\n    </tr>\n    <tr>\n      <th>6</th>\n      <td>Manukau Central</td>\n      <td>192</td>\n    </tr>\n    <tr>\n      <th>7</th>\n      <td>Palmerston North Central</td>\n      <td>190</td>\n    </tr>\n    <tr>\n      <th>8</th>\n      <td>Kuirau</td>\n      <td>168</td>\n    </tr>\n    <tr>\n      <th>9</th>\n      <td>Tauranga Central</td>\n      <td>167</td>\n    </tr>\n  </tbody>\n</table>\n</div>"
     },
     "execution_count": 250,
     "metadata": {},
     "output_type": "execute_result"
    }
   ],
   "source": [
    "top_10_assaults2 = assaults.nlargest(10, \"Victimisations_calendar_year_2015\")\n",
    "print(\"Top 10 areas with the highest assaults:\")\n",
    "top_10_assaults2[[\"Area_unit_2013_label\", \"Victimisations_calendar_year_2015\"]]"
   ],
   "metadata": {
    "collapsed": false
   }
  },
  {
   "cell_type": "markdown",
   "source": [
    "6. Lägg till en kolumn i dataframen som visar % antal överfall i området jämfört med\n",
    "invånarantal i området. Varje rad är ett område."
   ],
   "metadata": {
    "collapsed": false
   }
  },
  {
   "cell_type": "code",
   "execution_count": 251,
   "outputs": [
    {
     "data": {
      "text/plain": "              Area_unit_2013_label  Victimisations_calendar_year_2015  \\\n0            Auckland Central West                                550   \n1  Willis Street-Cambridge Terrace                                447   \n2                 Hamilton Central                                380   \n3            Auckland Central East                                375   \n4                 Cathedral Square                                305   \n5             Auckland Harbourside                                253   \n6                  Manukau Central                                192   \n7         Palmerston North Central                                190   \n8                           Kuirau                                168   \n9                 Tauranga Central                                167   \n\n   assaults_%_per_area  \n0             3.459119  \n1             5.385542  \n2            11.987382  \n3             2.830189  \n4            53.508772  \n5             4.454225  \n6            21.333333  \n7             6.209150  \n8            13.023256  \n9             7.356828  ",
      "text/html": "<div>\n<style scoped>\n    .dataframe tbody tr th:only-of-type {\n        vertical-align: middle;\n    }\n\n    .dataframe tbody tr th {\n        vertical-align: top;\n    }\n\n    .dataframe thead th {\n        text-align: right;\n    }\n</style>\n<table border=\"1\" class=\"dataframe\">\n  <thead>\n    <tr style=\"text-align: right;\">\n      <th></th>\n      <th>Area_unit_2013_label</th>\n      <th>Victimisations_calendar_year_2015</th>\n      <th>assaults_%_per_area</th>\n    </tr>\n  </thead>\n  <tbody>\n    <tr>\n      <th>0</th>\n      <td>Auckland Central West</td>\n      <td>550</td>\n      <td>3.459119</td>\n    </tr>\n    <tr>\n      <th>1</th>\n      <td>Willis Street-Cambridge Terrace</td>\n      <td>447</td>\n      <td>5.385542</td>\n    </tr>\n    <tr>\n      <th>2</th>\n      <td>Hamilton Central</td>\n      <td>380</td>\n      <td>11.987382</td>\n    </tr>\n    <tr>\n      <th>3</th>\n      <td>Auckland Central East</td>\n      <td>375</td>\n      <td>2.830189</td>\n    </tr>\n    <tr>\n      <th>4</th>\n      <td>Cathedral Square</td>\n      <td>305</td>\n      <td>53.508772</td>\n    </tr>\n    <tr>\n      <th>5</th>\n      <td>Auckland Harbourside</td>\n      <td>253</td>\n      <td>4.454225</td>\n    </tr>\n    <tr>\n      <th>6</th>\n      <td>Manukau Central</td>\n      <td>192</td>\n      <td>21.333333</td>\n    </tr>\n    <tr>\n      <th>7</th>\n      <td>Palmerston North Central</td>\n      <td>190</td>\n      <td>6.209150</td>\n    </tr>\n    <tr>\n      <th>8</th>\n      <td>Kuirau</td>\n      <td>168</td>\n      <td>13.023256</td>\n    </tr>\n    <tr>\n      <th>9</th>\n      <td>Tauranga Central</td>\n      <td>167</td>\n      <td>7.356828</td>\n    </tr>\n  </tbody>\n</table>\n</div>"
     },
     "execution_count": 251,
     "metadata": {},
     "output_type": "execute_result"
    }
   ],
   "source": [
    "top_10_assaults[\"assaults_%_per_area\"] = (assaults[\"Victimisations_calendar_year_2015\"] / assaults[\"Population_mid_point_2015\"]) *100\n",
    "\n",
    "top_10_assaults[[\"Area_unit_2013_label\", \"Victimisations_calendar_year_2015\", \"assaults_%_per_area\"]]"
   ],
   "metadata": {
    "collapsed": false
   }
  },
  {
   "cell_type": "markdown",
   "source": [
    "7. Skapa en ny dataframe som innehåller antalet områden (Area_unit_2013_label) som finns av\n",
    "de olika typerna av urban area (Urban_area_2013_label)."
   ],
   "metadata": {
    "collapsed": false
   }
  },
  {
   "cell_type": "code",
   "execution_count": 252,
   "outputs": [
    {
     "name": "stdout",
     "output_type": "stream",
     "text": [
      "Number or areas in realation to urban area names:\n"
     ]
    },
    {
     "data": {
      "text/plain": "Area_unit_2013_label\nAbbey Caves         1\nAbbotsford          1\nAbbotts Park        1\nAcacia Bay          1\nAddington           1\n                   ..\nWyllies Crossing    1\nWymondley           1\nWyndham             1\nYaldhurst           1\nYatton Park         1\nName: Urban_area_2013_label, Length: 2020, dtype: int64"
     },
     "execution_count": 252,
     "metadata": {},
     "output_type": "execute_result"
    }
   ],
   "source": [
    "urban_areas = assaults.groupby(\"Area_unit_2013_label\")[\"Urban_area_2013_label\"].count()\n",
    "print(\"Number or areas in realation to urban area names:\")\n",
    "urban_areas"
   ],
   "metadata": {
    "collapsed": false
   }
  },
  {
   "cell_type": "code",
   "execution_count": 253,
   "outputs": [
    {
     "name": "stdout",
     "output_type": "stream",
     "text": [
      "Urban areas and their area count:\n"
     ]
    },
    {
     "data": {
      "text/plain": "    Urban_area_2013_label  Area_count\n0               Alexandra           1\n1                Amberley           1\n2               Arrowtown           1\n3               Ashburton          11\n4               Balclutha           1\n..                    ...         ...\n145             Whangarei          29\n146             Whitianga           1\n147                Winton           1\n148               Woodend           3\n149             Woodville           1\n\n[150 rows x 2 columns]",
      "text/html": "<div>\n<style scoped>\n    .dataframe tbody tr th:only-of-type {\n        vertical-align: middle;\n    }\n\n    .dataframe tbody tr th {\n        vertical-align: top;\n    }\n\n    .dataframe thead th {\n        text-align: right;\n    }\n</style>\n<table border=\"1\" class=\"dataframe\">\n  <thead>\n    <tr style=\"text-align: right;\">\n      <th></th>\n      <th>Urban_area_2013_label</th>\n      <th>Area_count</th>\n    </tr>\n  </thead>\n  <tbody>\n    <tr>\n      <th>0</th>\n      <td>Alexandra</td>\n      <td>1</td>\n    </tr>\n    <tr>\n      <th>1</th>\n      <td>Amberley</td>\n      <td>1</td>\n    </tr>\n    <tr>\n      <th>2</th>\n      <td>Arrowtown</td>\n      <td>1</td>\n    </tr>\n    <tr>\n      <th>3</th>\n      <td>Ashburton</td>\n      <td>11</td>\n    </tr>\n    <tr>\n      <th>4</th>\n      <td>Balclutha</td>\n      <td>1</td>\n    </tr>\n    <tr>\n      <th>...</th>\n      <td>...</td>\n      <td>...</td>\n    </tr>\n    <tr>\n      <th>145</th>\n      <td>Whangarei</td>\n      <td>29</td>\n    </tr>\n    <tr>\n      <th>146</th>\n      <td>Whitianga</td>\n      <td>1</td>\n    </tr>\n    <tr>\n      <th>147</th>\n      <td>Winton</td>\n      <td>1</td>\n    </tr>\n    <tr>\n      <th>148</th>\n      <td>Woodend</td>\n      <td>3</td>\n    </tr>\n    <tr>\n      <th>149</th>\n      <td>Woodville</td>\n      <td>1</td>\n    </tr>\n  </tbody>\n</table>\n<p>150 rows × 2 columns</p>\n</div>"
     },
     "execution_count": 253,
     "metadata": {},
     "output_type": "execute_result"
    }
   ],
   "source": [
    "urban_areas2 = assaults.groupby([\"Urban_area_2013_label\"])[\"Area_unit_2013_label\"].count()\n",
    "urban_areas2 = urban_areas2.reset_index()\n",
    "urban_areas2.rename(columns={\"Area_unit_2013_label\": \"Area_count\"}, inplace= True)\n",
    "print(\"Urban areas and their area count:\")\n",
    "urban_areas2"
   ],
   "metadata": {
    "collapsed": false
   }
  },
  {
   "cell_type": "code",
   "execution_count": 254,
   "outputs": [
    {
     "name": "stdout",
     "output_type": "stream",
     "text": [
      "Number of types of areas for all areas:\n"
     ]
    },
    {
     "data": {
      "text/plain": "Urban_area_type\nMain urban area         1112\nMinor urban area         137\nRural area               640\nSecondary urban area     131\nName: Area_unit_2013_label, dtype: int64"
     },
     "execution_count": 254,
     "metadata": {},
     "output_type": "execute_result"
    }
   ],
   "source": [
    "urban_areas3 = assaults.groupby('Urban_area_type')[\"Area_unit_2013_label\"].count()\n",
    "print(\"Number of types of areas for all areas:\")\n",
    "urban_areas3"
   ],
   "metadata": {
    "collapsed": false
   }
  },
  {
   "cell_type": "markdown",
   "source": [
    "8. Ta reda på hur många områden (varje rad är ett område) hade population men inga överfall.\n",
    "Jämfört totala populationen i dessa med totala populationen i deras region\n",
    "(Region_2013_label)."
   ],
   "metadata": {
    "collapsed": false
   }
  },
  {
   "cell_type": "code",
   "execution_count": 255,
   "outputs": [
    {
     "name": "stdout",
     "output_type": "stream",
     "text": [
      "Populated areas with no assaults: 291\n",
      "Total population with no assaults: 212780\n",
      "\n",
      "Regions without assaults and their population:\n"
     ]
    },
    {
     "data": {
      "text/plain": "Region_2013_label\nArea Outside Region           610\nAuckland Region             32520\nBay of Plenty Region         6380\nCanterbury Region           37850\nGisborne Region              1500\nHawke's Bay Region           5360\nManawatu-Wanganui Region     9610\nMarlborough Region           2790\nNelson Region                1570\nNorthland Region             5870\nOtago Region                17290\nSouthland Region            14060\nTaranaki Region             13750\nTasman Region                1020\nWaikato Region              18780\nWellington Region           36110\nWest Coast Region            7710\nName: Population_mid_point_2015, dtype: int64"
     },
     "execution_count": 255,
     "metadata": {},
     "output_type": "execute_result"
    }
   ],
   "source": [
    "areas_with_pop_with_no_assaults = assaults[((assaults[\"Population_mid_point_2015\"] > 0 ) & (assaults[\"Victimisations_calendar_year_2015\"] == 0))]\n",
    "pop_with_no_assaults = areas_with_pop_with_no_assaults[\"Population_mid_point_2015\"].sum()\n",
    "pop_by_region_without_assaults = areas_with_pop_with_no_assaults.groupby(\"Region_2013_label\")[\"Population_mid_point_2015\"].sum()\n",
    "total_pop_per_region = assaults.groupby(\"Region_2013_label\")[\"Population_mid_point_2015\" ].sum()\n",
    "print(\"Populated areas with no assaults:\", len(areas_with_pop_with_no_assaults))\n",
    "print(\"Total population with no assaults:\", pop_with_no_assaults)\n",
    "print(\"\\nRegions without assaults and their population:\")\n",
    "pop_by_region_without_assaults"
   ],
   "metadata": {
    "collapsed": false
   }
  },
  {
   "cell_type": "code",
   "execution_count": 256,
   "outputs": [
    {
     "name": "stdout",
     "output_type": "stream",
     "text": [
      "Total population per region: Region_2013_label\n",
      "Area Outside Region             610\n",
      "Auckland Region             1569890\n",
      "Bay of Plenty Region         287130\n",
      "Canterbury Region            586310\n",
      "Gisborne Region               47370\n",
      "Hawke's Bay Region           160010\n",
      "Manawatu-Wanganui Region     234460\n",
      "Marlborough Region            45340\n",
      "Nelson Region                 49940\n",
      "Northland Region             168320\n",
      "Otago Region                 215030\n",
      "Southland Region              97190\n",
      "Taranaki Region              115760\n",
      "Tasman Region                 49500\n",
      "Waikato Region               439000\n",
      "Wellington Region            496890\n",
      "West Coast Region             32700\n",
      "Name: Population_mid_point_2015, dtype: int64\n"
     ]
    }
   ],
   "source": [
    "print(\"Total population per region:\", total_pop_per_region)"
   ],
   "metadata": {
    "collapsed": false
   }
  },
  {
   "cell_type": "markdown",
   "source": [
    "9. Räkna per kolumn hur många rader det är som inte innehåller någon data."
   ],
   "metadata": {
    "collapsed": false
   }
  },
  {
   "cell_type": "code",
   "execution_count": 257,
   "outputs": [
    {
     "data": {
      "text/plain": "Index                                      0\nArea_unit_2013_code                        0\nArea_unit_2013_label                       0\nVictimisations_calendar_year_2015          0\nPopulation_mid_point_2015                  0\nRate_per_10000_population                417\nRate_ratio_NZ_average_rate               417\nUrban_area_2013_code                       0\nUrban_area_2013_label                      0\nUrban_area_type                            0\nTerritorial_authority_area_2013_code       0\nTerritorial_authority_area_2013_label      0\nRegion_2013_code                           0\nRegion_2013_label                          0\ndtype: int64"
     },
     "execution_count": 257,
     "metadata": {},
     "output_type": "execute_result"
    }
   ],
   "source": [
    "missing_values = assaults.isnull().sum()\n",
    "missing_values"
   ],
   "metadata": {
    "collapsed": false
   }
  },
  {
   "cell_type": "code",
   "execution_count": 258,
   "outputs": [
    {
     "data": {
      "text/plain": "Index                                      0\nArea_unit_2013_code                        0\nArea_unit_2013_label                       0\nVictimisations_calendar_year_2015        407\nPopulation_mid_point_2015                126\nRate_per_10000_population                  0\nRate_ratio_NZ_average_rate                 9\nUrban_area_2013_code                       0\nUrban_area_2013_label                      0\nUrban_area_type                            0\nTerritorial_authority_area_2013_code       0\nTerritorial_authority_area_2013_label      0\nRegion_2013_code                           0\nRegion_2013_label                          0\ndtype: int64"
     },
     "execution_count": 258,
     "metadata": {},
     "output_type": "execute_result"
    }
   ],
   "source": [
    "col_with_0_val = assaults[(assaults[:] == 0)].count()\n",
    "col_with_0_val"
   ],
   "metadata": {
    "collapsed": false
   }
  },
  {
   "cell_type": "markdown",
   "source": [
    "10. Skapa en ny dataframe med 10 rader. Den innehåller de 10 rader med lägsta antalet överfall\n",
    "per invånare (Rate_per_10000_population), men mer än 5000 invånare."
   ],
   "metadata": {
    "collapsed": false
   }
  },
  {
   "cell_type": "code",
   "execution_count": 259,
   "outputs": [
    {
     "name": "stdout",
     "output_type": "stream",
     "text": [
      "Top 10 areas with lowest assault rate per 10000 population but population is more than 5000:\n"
     ]
    },
    {
     "data": {
      "text/plain": "    Area_unit_2013_label  Victimisations_calendar_year_2015  \\\n807            Sunnynook                                  7   \n690           Huntington                                  9   \n968    Opouteke-Tanekaha                                  5   \n967                Hinds                                  5   \n808         Kelvin Grove                                  7   \n36         Mangere South                                 81   \n63         Clendon South                                 57   \n805              Hairini                                  7   \n806       Lynfield North                                  7   \n54               Arataki                                 65   \n\n    Rate_per_10000_population  \n807                        10  \n690                        10  \n968                        10  \n967                        10  \n808                        10  \n36                        102  \n63                        103  \n805                        11  \n806                        11  \n54                        118  ",
      "text/html": "<div>\n<style scoped>\n    .dataframe tbody tr th:only-of-type {\n        vertical-align: middle;\n    }\n\n    .dataframe tbody tr th {\n        vertical-align: top;\n    }\n\n    .dataframe thead th {\n        text-align: right;\n    }\n</style>\n<table border=\"1\" class=\"dataframe\">\n  <thead>\n    <tr style=\"text-align: right;\">\n      <th></th>\n      <th>Area_unit_2013_label</th>\n      <th>Victimisations_calendar_year_2015</th>\n      <th>Rate_per_10000_population</th>\n    </tr>\n  </thead>\n  <tbody>\n    <tr>\n      <th>807</th>\n      <td>Sunnynook</td>\n      <td>7</td>\n      <td>10</td>\n    </tr>\n    <tr>\n      <th>690</th>\n      <td>Huntington</td>\n      <td>9</td>\n      <td>10</td>\n    </tr>\n    <tr>\n      <th>968</th>\n      <td>Opouteke-Tanekaha</td>\n      <td>5</td>\n      <td>10</td>\n    </tr>\n    <tr>\n      <th>967</th>\n      <td>Hinds</td>\n      <td>5</td>\n      <td>10</td>\n    </tr>\n    <tr>\n      <th>808</th>\n      <td>Kelvin Grove</td>\n      <td>7</td>\n      <td>10</td>\n    </tr>\n    <tr>\n      <th>36</th>\n      <td>Mangere South</td>\n      <td>81</td>\n      <td>102</td>\n    </tr>\n    <tr>\n      <th>63</th>\n      <td>Clendon South</td>\n      <td>57</td>\n      <td>103</td>\n    </tr>\n    <tr>\n      <th>805</th>\n      <td>Hairini</td>\n      <td>7</td>\n      <td>11</td>\n    </tr>\n    <tr>\n      <th>806</th>\n      <td>Lynfield North</td>\n      <td>7</td>\n      <td>11</td>\n    </tr>\n    <tr>\n      <th>54</th>\n      <td>Arataki</td>\n      <td>65</td>\n      <td>118</td>\n    </tr>\n  </tbody>\n</table>\n</div>"
     },
     "execution_count": 259,
     "metadata": {},
     "output_type": "execute_result"
    }
   ],
   "source": [
    "low_assaults = assaults[(assaults[\"Victimisations_calendar_year_2015\"]) & (assaults[\"Population_mid_point_2015\"] > 5000)]\n",
    "top_10_lowest_assaults = low_assaults.sort_values(\"Rate_per_10000_population\", ascending=True).head(10)\n",
    "print(\"Top 10 areas with lowest assault rate per 10000 population but population is more than 5000:\")\n",
    "top_10_lowest_assaults[[\"Area_unit_2013_label\", \"Victimisations_calendar_year_2015\", \"Rate_per_10000_population\"]]"
   ],
   "metadata": {
    "collapsed": false
   }
  },
  {
   "cell_type": "markdown",
   "source": [
    "11. Skapa en ny dataframe ”regions” som innehåller sammansatt data per region\n",
    "(Region_2013_label). Lägg till en ny kolumn som innehåller ”Rate_per_10000_population”\n",
    "fast för hela regionen."
   ],
   "metadata": {
    "collapsed": false
   }
  },
  {
   "cell_type": "code",
   "execution_count": 260,
   "outputs": [
    {
     "data": {
      "text/plain": "                          Victimisations_calendar_year_2015  \\\nRegion_2013_label                                             \nArea Outside Region                                       0   \nAuckland Region                                        8010   \nBay of Plenty Region                                   1751   \nCanterbury Region                                      2942   \nGisborne Region                                         436   \nHawke's Bay Region                                     1068   \nManawatu-Wanganui Region                               1270   \nMarlborough Region                                      209   \nNelson Region                                           357   \nNorthland Region                                        905   \nOtago Region                                           1142   \nSouthland Region                                        381   \nTaranaki Region                                         493   \nTasman Region                                           161   \nWaikato Region                                         2330   \nWellington Region                                      2459   \nWest Coast Region                                       121   \n\n                          Population_mid_point_2015  Rate_per_10000_population  \nRegion_2013_label                                                               \nArea Outside Region                             610                   0.000000  \nAuckland Region                             1569890                  51.022683  \nBay of Plenty Region                         287130                  60.982830  \nCanterbury Region                            586310                  50.178233  \nGisborne Region                               47370                  92.041376  \nHawke's Bay Region                           160010                  66.745828  \nManawatu-Wanganui Region                     234460                  54.167022  \nMarlborough Region                            45340                  46.096162  \nNelson Region                                 49940                  71.485783  \nNorthland Region                             168320                  53.766635  \nOtago Region                                 215030                  53.108869  \nSouthland Region                              97190                  39.201564  \nTaranaki Region                              115760                  42.588113  \nTasman Region                                 49500                  32.525253  \nWaikato Region                               439000                  53.075171  \nWellington Region                            496890                  49.487814  \nWest Coast Region                             32700                  37.003058  ",
      "text/html": "<div>\n<style scoped>\n    .dataframe tbody tr th:only-of-type {\n        vertical-align: middle;\n    }\n\n    .dataframe tbody tr th {\n        vertical-align: top;\n    }\n\n    .dataframe thead th {\n        text-align: right;\n    }\n</style>\n<table border=\"1\" class=\"dataframe\">\n  <thead>\n    <tr style=\"text-align: right;\">\n      <th></th>\n      <th>Victimisations_calendar_year_2015</th>\n      <th>Population_mid_point_2015</th>\n      <th>Rate_per_10000_population</th>\n    </tr>\n    <tr>\n      <th>Region_2013_label</th>\n      <th></th>\n      <th></th>\n      <th></th>\n    </tr>\n  </thead>\n  <tbody>\n    <tr>\n      <th>Area Outside Region</th>\n      <td>0</td>\n      <td>610</td>\n      <td>0.000000</td>\n    </tr>\n    <tr>\n      <th>Auckland Region</th>\n      <td>8010</td>\n      <td>1569890</td>\n      <td>51.022683</td>\n    </tr>\n    <tr>\n      <th>Bay of Plenty Region</th>\n      <td>1751</td>\n      <td>287130</td>\n      <td>60.982830</td>\n    </tr>\n    <tr>\n      <th>Canterbury Region</th>\n      <td>2942</td>\n      <td>586310</td>\n      <td>50.178233</td>\n    </tr>\n    <tr>\n      <th>Gisborne Region</th>\n      <td>436</td>\n      <td>47370</td>\n      <td>92.041376</td>\n    </tr>\n    <tr>\n      <th>Hawke's Bay Region</th>\n      <td>1068</td>\n      <td>160010</td>\n      <td>66.745828</td>\n    </tr>\n    <tr>\n      <th>Manawatu-Wanganui Region</th>\n      <td>1270</td>\n      <td>234460</td>\n      <td>54.167022</td>\n    </tr>\n    <tr>\n      <th>Marlborough Region</th>\n      <td>209</td>\n      <td>45340</td>\n      <td>46.096162</td>\n    </tr>\n    <tr>\n      <th>Nelson Region</th>\n      <td>357</td>\n      <td>49940</td>\n      <td>71.485783</td>\n    </tr>\n    <tr>\n      <th>Northland Region</th>\n      <td>905</td>\n      <td>168320</td>\n      <td>53.766635</td>\n    </tr>\n    <tr>\n      <th>Otago Region</th>\n      <td>1142</td>\n      <td>215030</td>\n      <td>53.108869</td>\n    </tr>\n    <tr>\n      <th>Southland Region</th>\n      <td>381</td>\n      <td>97190</td>\n      <td>39.201564</td>\n    </tr>\n    <tr>\n      <th>Taranaki Region</th>\n      <td>493</td>\n      <td>115760</td>\n      <td>42.588113</td>\n    </tr>\n    <tr>\n      <th>Tasman Region</th>\n      <td>161</td>\n      <td>49500</td>\n      <td>32.525253</td>\n    </tr>\n    <tr>\n      <th>Waikato Region</th>\n      <td>2330</td>\n      <td>439000</td>\n      <td>53.075171</td>\n    </tr>\n    <tr>\n      <th>Wellington Region</th>\n      <td>2459</td>\n      <td>496890</td>\n      <td>49.487814</td>\n    </tr>\n    <tr>\n      <th>West Coast Region</th>\n      <td>121</td>\n      <td>32700</td>\n      <td>37.003058</td>\n    </tr>\n  </tbody>\n</table>\n</div>"
     },
     "execution_count": 260,
     "metadata": {},
     "output_type": "execute_result"
    }
   ],
   "source": [
    "regions = assaults.groupby(\"Region_2013_label\").sum()\n",
    "regions[\"Rate_per_10000_population\"] = regions[\"Victimisations_calendar_year_2015\"] / regions[\"Population_mid_point_2015\"] * 10000\n",
    "regions[[\"Victimisations_calendar_year_2015\", \"Population_mid_point_2015\",\"Rate_per_10000_population\"]]"
   ],
   "metadata": {
    "collapsed": false
   }
  },
  {
   "cell_type": "markdown",
   "source": [
    "12. Lägg till en ny kolumn i dataframen med regionerna som visar i % hur många av alla överfall\n",
    "som sker i den regionen."
   ],
   "metadata": {
    "collapsed": false
   }
  },
  {
   "cell_type": "code",
   "execution_count": 261,
   "outputs": [
    {
     "data": {
      "text/plain": "                          Victimisations_calendar_year_2015  \\\nRegion_2013_label                                             \nArea Outside Region                                       0   \nAuckland Region                                        8010   \nBay of Plenty Region                                   1751   \nCanterbury Region                                      2942   \nGisborne Region                                         436   \nHawke's Bay Region                                     1068   \nManawatu-Wanganui Region                               1270   \nMarlborough Region                                      209   \nNelson Region                                           357   \nNorthland Region                                        905   \nOtago Region                                           1142   \nSouthland Region                                        381   \nTaranaki Region                                         493   \nTasman Region                                           161   \nWaikato Region                                         2330   \nWellington Region                                      2459   \nWest Coast Region                                       121   \n\n                          crime_%_per_region  \nRegion_2013_label                             \nArea Outside Region                 0.000000  \nAuckland Region                    33.326399  \nBay of Plenty Region                7.285209  \nCanterbury Region                  12.240483  \nGisborne Region                     1.814021  \nHawke's Bay Region                  4.443520  \nManawatu-Wanganui Region            5.283961  \nMarlborough Region                  0.869565  \nNelson Region                       1.485334  \nNorthland Region                    3.765342  \nOtago Region                        4.751404  \nSouthland Region                    1.585188  \nTaranaki Region                     2.051175  \nTasman Region                       0.669856  \nWaikato Region                      9.694196  \nWellington Region                  10.230913  \nWest Coast Region                   0.503432  ",
      "text/html": "<div>\n<style scoped>\n    .dataframe tbody tr th:only-of-type {\n        vertical-align: middle;\n    }\n\n    .dataframe tbody tr th {\n        vertical-align: top;\n    }\n\n    .dataframe thead th {\n        text-align: right;\n    }\n</style>\n<table border=\"1\" class=\"dataframe\">\n  <thead>\n    <tr style=\"text-align: right;\">\n      <th></th>\n      <th>Victimisations_calendar_year_2015</th>\n      <th>crime_%_per_region</th>\n    </tr>\n    <tr>\n      <th>Region_2013_label</th>\n      <th></th>\n      <th></th>\n    </tr>\n  </thead>\n  <tbody>\n    <tr>\n      <th>Area Outside Region</th>\n      <td>0</td>\n      <td>0.000000</td>\n    </tr>\n    <tr>\n      <th>Auckland Region</th>\n      <td>8010</td>\n      <td>33.326399</td>\n    </tr>\n    <tr>\n      <th>Bay of Plenty Region</th>\n      <td>1751</td>\n      <td>7.285209</td>\n    </tr>\n    <tr>\n      <th>Canterbury Region</th>\n      <td>2942</td>\n      <td>12.240483</td>\n    </tr>\n    <tr>\n      <th>Gisborne Region</th>\n      <td>436</td>\n      <td>1.814021</td>\n    </tr>\n    <tr>\n      <th>Hawke's Bay Region</th>\n      <td>1068</td>\n      <td>4.443520</td>\n    </tr>\n    <tr>\n      <th>Manawatu-Wanganui Region</th>\n      <td>1270</td>\n      <td>5.283961</td>\n    </tr>\n    <tr>\n      <th>Marlborough Region</th>\n      <td>209</td>\n      <td>0.869565</td>\n    </tr>\n    <tr>\n      <th>Nelson Region</th>\n      <td>357</td>\n      <td>1.485334</td>\n    </tr>\n    <tr>\n      <th>Northland Region</th>\n      <td>905</td>\n      <td>3.765342</td>\n    </tr>\n    <tr>\n      <th>Otago Region</th>\n      <td>1142</td>\n      <td>4.751404</td>\n    </tr>\n    <tr>\n      <th>Southland Region</th>\n      <td>381</td>\n      <td>1.585188</td>\n    </tr>\n    <tr>\n      <th>Taranaki Region</th>\n      <td>493</td>\n      <td>2.051175</td>\n    </tr>\n    <tr>\n      <th>Tasman Region</th>\n      <td>161</td>\n      <td>0.669856</td>\n    </tr>\n    <tr>\n      <th>Waikato Region</th>\n      <td>2330</td>\n      <td>9.694196</td>\n    </tr>\n    <tr>\n      <th>Wellington Region</th>\n      <td>2459</td>\n      <td>10.230913</td>\n    </tr>\n    <tr>\n      <th>West Coast Region</th>\n      <td>121</td>\n      <td>0.503432</td>\n    </tr>\n  </tbody>\n</table>\n</div>"
     },
     "execution_count": 261,
     "metadata": {},
     "output_type": "execute_result"
    }
   ],
   "source": [
    "regions[\"crime_%_per_region\"] = regions[\"Victimisations_calendar_year_2015\"] / regions[\"Victimisations_calendar_year_2015\"].sum() * 100\n",
    "regions[[\"Victimisations_calendar_year_2015\", \"crime_%_per_region\"]]"
   ],
   "metadata": {
    "collapsed": false
   }
  },
  {
   "cell_type": "markdown",
   "source": [
    "VG"
   ],
   "metadata": {
    "collapsed": false
   }
  },
  {
   "cell_type": "code",
   "execution_count": 262,
   "outputs": [],
   "source": [
    "import pandas as pd\n",
    "import matplotlib.pyplot as plt"
   ],
   "metadata": {
    "collapsed": false
   }
  },
  {
   "cell_type": "code",
   "execution_count": 263,
   "outputs": [],
   "source": [
    "avocado_df = pd.read_csv(\"avocado.csv\")"
   ],
   "metadata": {
    "collapsed": false
   }
  },
  {
   "cell_type": "code",
   "execution_count": 264,
   "outputs": [
    {
     "data": {
      "text/plain": "       Unnamed: 0      Date  average_price  total_volume  small_size  \\\n0               0  15/12/27           1.33      64236.62     1036.74   \n1               1  15/12/20           1.35      54876.98      674.28   \n2               2  15/12/13           0.93     118220.22      794.70   \n3               3  15/12/06           1.08      78992.15     1132.00   \n4               4  15/11/29           1.28      51039.60      941.48   \n...           ...       ...            ...           ...         ...   \n18244           7  18/02/04           1.63      17074.83     2046.96   \n18245           8  18/01/28           1.71      13888.04     1191.70   \n18246           9  18/01/21           1.87      13766.76     1191.92   \n18247          10  18/01/14           1.93      16205.22     1527.63   \n18248          11  18/01/07           1.62      17489.58     2894.77   \n\n       medium_size  large_size  total_bags  small_bags  large_bags  \\\n0         54454.85       48.16     8696.87     8603.62       93.25   \n1         44638.81       58.33     9505.56     9408.07       97.49   \n2        109149.67      130.50     8145.35     8042.21      103.14   \n3         71976.41       72.58     5811.16     5677.40      133.76   \n4         43838.39       75.78     6183.95     5986.26      197.69   \n...            ...         ...         ...         ...         ...   \n18244      1529.20        0.00    13498.67    13066.82      431.85   \n18245      3431.50        0.00     9264.84     8940.04      324.80   \n18246      2452.79      727.94     9394.11     9351.80       42.31   \n18247      2981.04      727.01    10969.54    10919.54       50.00   \n18248      2356.13      224.53    12014.15    11988.14       26.01   \n\n       xLarge _bags          type  year            region  \n0               0.0  conventional  2015            Albany  \n1               0.0  conventional  2015            Albany  \n2               0.0  conventional  2015            Albany  \n3               0.0  conventional  2015            Albany  \n4               0.0  conventional  2015            Albany  \n...             ...           ...   ...               ...  \n18244           0.0       organic  2018  WestTexNewMexico  \n18245           0.0       organic  2018  WestTexNewMexico  \n18246           0.0       organic  2018  WestTexNewMexico  \n18247           0.0       organic  2018  WestTexNewMexico  \n18248           0.0       organic  2018  WestTexNewMexico  \n\n[18249 rows x 14 columns]",
      "text/html": "<div>\n<style scoped>\n    .dataframe tbody tr th:only-of-type {\n        vertical-align: middle;\n    }\n\n    .dataframe tbody tr th {\n        vertical-align: top;\n    }\n\n    .dataframe thead th {\n        text-align: right;\n    }\n</style>\n<table border=\"1\" class=\"dataframe\">\n  <thead>\n    <tr style=\"text-align: right;\">\n      <th></th>\n      <th>Unnamed: 0</th>\n      <th>Date</th>\n      <th>average_price</th>\n      <th>total_volume</th>\n      <th>small_size</th>\n      <th>medium_size</th>\n      <th>large_size</th>\n      <th>total_bags</th>\n      <th>small_bags</th>\n      <th>large_bags</th>\n      <th>xLarge _bags</th>\n      <th>type</th>\n      <th>year</th>\n      <th>region</th>\n    </tr>\n  </thead>\n  <tbody>\n    <tr>\n      <th>0</th>\n      <td>0</td>\n      <td>15/12/27</td>\n      <td>1.33</td>\n      <td>64236.62</td>\n      <td>1036.74</td>\n      <td>54454.85</td>\n      <td>48.16</td>\n      <td>8696.87</td>\n      <td>8603.62</td>\n      <td>93.25</td>\n      <td>0.0</td>\n      <td>conventional</td>\n      <td>2015</td>\n      <td>Albany</td>\n    </tr>\n    <tr>\n      <th>1</th>\n      <td>1</td>\n      <td>15/12/20</td>\n      <td>1.35</td>\n      <td>54876.98</td>\n      <td>674.28</td>\n      <td>44638.81</td>\n      <td>58.33</td>\n      <td>9505.56</td>\n      <td>9408.07</td>\n      <td>97.49</td>\n      <td>0.0</td>\n      <td>conventional</td>\n      <td>2015</td>\n      <td>Albany</td>\n    </tr>\n    <tr>\n      <th>2</th>\n      <td>2</td>\n      <td>15/12/13</td>\n      <td>0.93</td>\n      <td>118220.22</td>\n      <td>794.70</td>\n      <td>109149.67</td>\n      <td>130.50</td>\n      <td>8145.35</td>\n      <td>8042.21</td>\n      <td>103.14</td>\n      <td>0.0</td>\n      <td>conventional</td>\n      <td>2015</td>\n      <td>Albany</td>\n    </tr>\n    <tr>\n      <th>3</th>\n      <td>3</td>\n      <td>15/12/06</td>\n      <td>1.08</td>\n      <td>78992.15</td>\n      <td>1132.00</td>\n      <td>71976.41</td>\n      <td>72.58</td>\n      <td>5811.16</td>\n      <td>5677.40</td>\n      <td>133.76</td>\n      <td>0.0</td>\n      <td>conventional</td>\n      <td>2015</td>\n      <td>Albany</td>\n    </tr>\n    <tr>\n      <th>4</th>\n      <td>4</td>\n      <td>15/11/29</td>\n      <td>1.28</td>\n      <td>51039.60</td>\n      <td>941.48</td>\n      <td>43838.39</td>\n      <td>75.78</td>\n      <td>6183.95</td>\n      <td>5986.26</td>\n      <td>197.69</td>\n      <td>0.0</td>\n      <td>conventional</td>\n      <td>2015</td>\n      <td>Albany</td>\n    </tr>\n    <tr>\n      <th>...</th>\n      <td>...</td>\n      <td>...</td>\n      <td>...</td>\n      <td>...</td>\n      <td>...</td>\n      <td>...</td>\n      <td>...</td>\n      <td>...</td>\n      <td>...</td>\n      <td>...</td>\n      <td>...</td>\n      <td>...</td>\n      <td>...</td>\n      <td>...</td>\n    </tr>\n    <tr>\n      <th>18244</th>\n      <td>7</td>\n      <td>18/02/04</td>\n      <td>1.63</td>\n      <td>17074.83</td>\n      <td>2046.96</td>\n      <td>1529.20</td>\n      <td>0.00</td>\n      <td>13498.67</td>\n      <td>13066.82</td>\n      <td>431.85</td>\n      <td>0.0</td>\n      <td>organic</td>\n      <td>2018</td>\n      <td>WestTexNewMexico</td>\n    </tr>\n    <tr>\n      <th>18245</th>\n      <td>8</td>\n      <td>18/01/28</td>\n      <td>1.71</td>\n      <td>13888.04</td>\n      <td>1191.70</td>\n      <td>3431.50</td>\n      <td>0.00</td>\n      <td>9264.84</td>\n      <td>8940.04</td>\n      <td>324.80</td>\n      <td>0.0</td>\n      <td>organic</td>\n      <td>2018</td>\n      <td>WestTexNewMexico</td>\n    </tr>\n    <tr>\n      <th>18246</th>\n      <td>9</td>\n      <td>18/01/21</td>\n      <td>1.87</td>\n      <td>13766.76</td>\n      <td>1191.92</td>\n      <td>2452.79</td>\n      <td>727.94</td>\n      <td>9394.11</td>\n      <td>9351.80</td>\n      <td>42.31</td>\n      <td>0.0</td>\n      <td>organic</td>\n      <td>2018</td>\n      <td>WestTexNewMexico</td>\n    </tr>\n    <tr>\n      <th>18247</th>\n      <td>10</td>\n      <td>18/01/14</td>\n      <td>1.93</td>\n      <td>16205.22</td>\n      <td>1527.63</td>\n      <td>2981.04</td>\n      <td>727.01</td>\n      <td>10969.54</td>\n      <td>10919.54</td>\n      <td>50.00</td>\n      <td>0.0</td>\n      <td>organic</td>\n      <td>2018</td>\n      <td>WestTexNewMexico</td>\n    </tr>\n    <tr>\n      <th>18248</th>\n      <td>11</td>\n      <td>18/01/07</td>\n      <td>1.62</td>\n      <td>17489.58</td>\n      <td>2894.77</td>\n      <td>2356.13</td>\n      <td>224.53</td>\n      <td>12014.15</td>\n      <td>11988.14</td>\n      <td>26.01</td>\n      <td>0.0</td>\n      <td>organic</td>\n      <td>2018</td>\n      <td>WestTexNewMexico</td>\n    </tr>\n  </tbody>\n</table>\n<p>18249 rows × 14 columns</p>\n</div>"
     },
     "execution_count": 264,
     "metadata": {},
     "output_type": "execute_result"
    }
   ],
   "source": [
    "avocado_df"
   ],
   "metadata": {
    "collapsed": false
   }
  },
  {
   "cell_type": "code",
   "execution_count": 265,
   "outputs": [
    {
     "data": {
      "text/plain": "Unnamed: 0         int64\nDate              object\naverage_price    float64\ntotal_volume     float64\nsmall_size       float64\nmedium_size      float64\nlarge_size       float64\ntotal_bags       float64\nsmall_bags       float64\nlarge_bags       float64\nxLarge _bags     float64\ntype              object\nyear               int64\nregion            object\ndtype: object"
     },
     "execution_count": 265,
     "metadata": {},
     "output_type": "execute_result"
    }
   ],
   "source": [
    "avocado_df.dtypes"
   ],
   "metadata": {
    "collapsed": false
   }
  },
  {
   "cell_type": "code",
   "execution_count": 266,
   "outputs": [
    {
     "data": {
      "text/plain": "Index(['Date', 'average_price', 'total_volume', 'small_size', 'medium_size',\n       'large_size', 'total_bags', 'small_bags', 'large_bags', 'xLarge _bags',\n       'type', 'year', 'region'],\n      dtype='object')"
     },
     "execution_count": 266,
     "metadata": {},
     "output_type": "execute_result"
    }
   ],
   "source": [
    "avocado = avocado_df.columns.drop([\"Unnamed: 0\"])\n",
    "avocado"
   ],
   "metadata": {
    "collapsed": false
   }
  },
  {
   "cell_type": "code",
   "execution_count": 267,
   "outputs": [
    {
     "data": {
      "text/plain": "Unnamed: 0       18249\nDate             18249\naverage_price    18249\ntotal_volume     18249\nsmall_size       18249\nmedium_size      18249\nlarge_size       18249\ntotal_bags       18249\nsmall_bags       18249\nlarge_bags       18249\nxLarge _bags     18249\ntype             18249\nyear             18249\nregion           18249\ndtype: int64"
     },
     "execution_count": 267,
     "metadata": {},
     "output_type": "execute_result"
    }
   ],
   "source": [
    "no_values_count = avocado_df.isnull().count()\n",
    "no_values_count"
   ],
   "metadata": {
    "collapsed": false
   }
  },
  {
   "cell_type": "code",
   "execution_count": 268,
   "outputs": [
    {
     "data": {
      "text/plain": "       Unnamed: 0      Date  average_price  total_volume  small_size  \\\n0               0  15/12/27           1.33      64236.62     1036.74   \n1               1  15/12/20           1.35      54876.98      674.28   \n2               2  15/12/13           0.93     118220.22      794.70   \n3               3  15/12/06           1.08      78992.15     1132.00   \n4               4  15/11/29           1.28      51039.60      941.48   \n...           ...       ...            ...           ...         ...   \n18244           7  18/02/04           1.63      17074.83     2046.96   \n18245           8  18/01/28           1.71      13888.04     1191.70   \n18246           9  18/01/21           1.87      13766.76     1191.92   \n18247          10  18/01/14           1.93      16205.22     1527.63   \n18248          11  18/01/07           1.62      17489.58     2894.77   \n\n       medium_size  large_size  total_bags  small_bags  large_bags  \\\n0         54454.85       48.16     8696.87     8603.62       93.25   \n1         44638.81       58.33     9505.56     9408.07       97.49   \n2        109149.67      130.50     8145.35     8042.21      103.14   \n3         71976.41       72.58     5811.16     5677.40      133.76   \n4         43838.39       75.78     6183.95     5986.26      197.69   \n...            ...         ...         ...         ...         ...   \n18244      1529.20        0.00    13498.67    13066.82      431.85   \n18245      3431.50        0.00     9264.84     8940.04      324.80   \n18246      2452.79      727.94     9394.11     9351.80       42.31   \n18247      2981.04      727.01    10969.54    10919.54       50.00   \n18248      2356.13      224.53    12014.15    11988.14       26.01   \n\n       xLarge _bags          type  year            region  \n0               0.0  conventional  2015            Albany  \n1               0.0  conventional  2015            Albany  \n2               0.0  conventional  2015            Albany  \n3               0.0  conventional  2015            Albany  \n4               0.0  conventional  2015            Albany  \n...             ...           ...   ...               ...  \n18244           0.0       organic  2018  WestTexNewMexico  \n18245           0.0       organic  2018  WestTexNewMexico  \n18246           0.0       organic  2018  WestTexNewMexico  \n18247           0.0       organic  2018  WestTexNewMexico  \n18248           0.0       organic  2018  WestTexNewMexico  \n\n[18249 rows x 14 columns]",
      "text/html": "<div>\n<style scoped>\n    .dataframe tbody tr th:only-of-type {\n        vertical-align: middle;\n    }\n\n    .dataframe tbody tr th {\n        vertical-align: top;\n    }\n\n    .dataframe thead th {\n        text-align: right;\n    }\n</style>\n<table border=\"1\" class=\"dataframe\">\n  <thead>\n    <tr style=\"text-align: right;\">\n      <th></th>\n      <th>Unnamed: 0</th>\n      <th>Date</th>\n      <th>average_price</th>\n      <th>total_volume</th>\n      <th>small_size</th>\n      <th>medium_size</th>\n      <th>large_size</th>\n      <th>total_bags</th>\n      <th>small_bags</th>\n      <th>large_bags</th>\n      <th>xLarge _bags</th>\n      <th>type</th>\n      <th>year</th>\n      <th>region</th>\n    </tr>\n  </thead>\n  <tbody>\n    <tr>\n      <th>0</th>\n      <td>0</td>\n      <td>15/12/27</td>\n      <td>1.33</td>\n      <td>64236.62</td>\n      <td>1036.74</td>\n      <td>54454.85</td>\n      <td>48.16</td>\n      <td>8696.87</td>\n      <td>8603.62</td>\n      <td>93.25</td>\n      <td>0.0</td>\n      <td>conventional</td>\n      <td>2015</td>\n      <td>Albany</td>\n    </tr>\n    <tr>\n      <th>1</th>\n      <td>1</td>\n      <td>15/12/20</td>\n      <td>1.35</td>\n      <td>54876.98</td>\n      <td>674.28</td>\n      <td>44638.81</td>\n      <td>58.33</td>\n      <td>9505.56</td>\n      <td>9408.07</td>\n      <td>97.49</td>\n      <td>0.0</td>\n      <td>conventional</td>\n      <td>2015</td>\n      <td>Albany</td>\n    </tr>\n    <tr>\n      <th>2</th>\n      <td>2</td>\n      <td>15/12/13</td>\n      <td>0.93</td>\n      <td>118220.22</td>\n      <td>794.70</td>\n      <td>109149.67</td>\n      <td>130.50</td>\n      <td>8145.35</td>\n      <td>8042.21</td>\n      <td>103.14</td>\n      <td>0.0</td>\n      <td>conventional</td>\n      <td>2015</td>\n      <td>Albany</td>\n    </tr>\n    <tr>\n      <th>3</th>\n      <td>3</td>\n      <td>15/12/06</td>\n      <td>1.08</td>\n      <td>78992.15</td>\n      <td>1132.00</td>\n      <td>71976.41</td>\n      <td>72.58</td>\n      <td>5811.16</td>\n      <td>5677.40</td>\n      <td>133.76</td>\n      <td>0.0</td>\n      <td>conventional</td>\n      <td>2015</td>\n      <td>Albany</td>\n    </tr>\n    <tr>\n      <th>4</th>\n      <td>4</td>\n      <td>15/11/29</td>\n      <td>1.28</td>\n      <td>51039.60</td>\n      <td>941.48</td>\n      <td>43838.39</td>\n      <td>75.78</td>\n      <td>6183.95</td>\n      <td>5986.26</td>\n      <td>197.69</td>\n      <td>0.0</td>\n      <td>conventional</td>\n      <td>2015</td>\n      <td>Albany</td>\n    </tr>\n    <tr>\n      <th>...</th>\n      <td>...</td>\n      <td>...</td>\n      <td>...</td>\n      <td>...</td>\n      <td>...</td>\n      <td>...</td>\n      <td>...</td>\n      <td>...</td>\n      <td>...</td>\n      <td>...</td>\n      <td>...</td>\n      <td>...</td>\n      <td>...</td>\n      <td>...</td>\n    </tr>\n    <tr>\n      <th>18244</th>\n      <td>7</td>\n      <td>18/02/04</td>\n      <td>1.63</td>\n      <td>17074.83</td>\n      <td>2046.96</td>\n      <td>1529.20</td>\n      <td>0.00</td>\n      <td>13498.67</td>\n      <td>13066.82</td>\n      <td>431.85</td>\n      <td>0.0</td>\n      <td>organic</td>\n      <td>2018</td>\n      <td>WestTexNewMexico</td>\n    </tr>\n    <tr>\n      <th>18245</th>\n      <td>8</td>\n      <td>18/01/28</td>\n      <td>1.71</td>\n      <td>13888.04</td>\n      <td>1191.70</td>\n      <td>3431.50</td>\n      <td>0.00</td>\n      <td>9264.84</td>\n      <td>8940.04</td>\n      <td>324.80</td>\n      <td>0.0</td>\n      <td>organic</td>\n      <td>2018</td>\n      <td>WestTexNewMexico</td>\n    </tr>\n    <tr>\n      <th>18246</th>\n      <td>9</td>\n      <td>18/01/21</td>\n      <td>1.87</td>\n      <td>13766.76</td>\n      <td>1191.92</td>\n      <td>2452.79</td>\n      <td>727.94</td>\n      <td>9394.11</td>\n      <td>9351.80</td>\n      <td>42.31</td>\n      <td>0.0</td>\n      <td>organic</td>\n      <td>2018</td>\n      <td>WestTexNewMexico</td>\n    </tr>\n    <tr>\n      <th>18247</th>\n      <td>10</td>\n      <td>18/01/14</td>\n      <td>1.93</td>\n      <td>16205.22</td>\n      <td>1527.63</td>\n      <td>2981.04</td>\n      <td>727.01</td>\n      <td>10969.54</td>\n      <td>10919.54</td>\n      <td>50.00</td>\n      <td>0.0</td>\n      <td>organic</td>\n      <td>2018</td>\n      <td>WestTexNewMexico</td>\n    </tr>\n    <tr>\n      <th>18248</th>\n      <td>11</td>\n      <td>18/01/07</td>\n      <td>1.62</td>\n      <td>17489.58</td>\n      <td>2894.77</td>\n      <td>2356.13</td>\n      <td>224.53</td>\n      <td>12014.15</td>\n      <td>11988.14</td>\n      <td>26.01</td>\n      <td>0.0</td>\n      <td>organic</td>\n      <td>2018</td>\n      <td>WestTexNewMexico</td>\n    </tr>\n  </tbody>\n</table>\n<p>18249 rows × 14 columns</p>\n</div>"
     },
     "execution_count": 268,
     "metadata": {},
     "output_type": "execute_result"
    }
   ],
   "source": [
    "avocado_df = avocado_df.dropna()\n",
    "avocado_df"
   ],
   "metadata": {
    "collapsed": false
   }
  },
  {
   "cell_type": "code",
   "execution_count": 269,
   "outputs": [
    {
     "data": {
      "text/plain": "       Unnamed: 0       Date  average_price  total_volume  small_size  \\\n0               0 2015-12-27           1.33      64236.62     1036.74   \n1               1 2015-12-20           1.35      54876.98      674.28   \n2               2 2015-12-13           0.93     118220.22      794.70   \n3               3 2015-12-06           1.08      78992.15     1132.00   \n4               4 2015-11-29           1.28      51039.60      941.48   \n...           ...        ...            ...           ...         ...   \n18244           7 2018-02-04           1.63      17074.83     2046.96   \n18245           8 2018-01-28           1.71      13888.04     1191.70   \n18246           9 2018-01-21           1.87      13766.76     1191.92   \n18247          10 2018-01-14           1.93      16205.22     1527.63   \n18248          11 2018-01-07           1.62      17489.58     2894.77   \n\n       medium_size  large_size  total_bags  small_bags  large_bags  \\\n0         54454.85       48.16     8696.87     8603.62       93.25   \n1         44638.81       58.33     9505.56     9408.07       97.49   \n2        109149.67      130.50     8145.35     8042.21      103.14   \n3         71976.41       72.58     5811.16     5677.40      133.76   \n4         43838.39       75.78     6183.95     5986.26      197.69   \n...            ...         ...         ...         ...         ...   \n18244      1529.20        0.00    13498.67    13066.82      431.85   \n18245      3431.50        0.00     9264.84     8940.04      324.80   \n18246      2452.79      727.94     9394.11     9351.80       42.31   \n18247      2981.04      727.01    10969.54    10919.54       50.00   \n18248      2356.13      224.53    12014.15    11988.14       26.01   \n\n       xLarge _bags          type  year            region  year_date  month  \\\n0               0.0  conventional  2015            Albany       2015     12   \n1               0.0  conventional  2015            Albany       2015     12   \n2               0.0  conventional  2015            Albany       2015     12   \n3               0.0  conventional  2015            Albany       2015     12   \n4               0.0  conventional  2015            Albany       2015     11   \n...             ...           ...   ...               ...        ...    ...   \n18244           0.0       organic  2018  WestTexNewMexico       2018      2   \n18245           0.0       organic  2018  WestTexNewMexico       2018      1   \n18246           0.0       organic  2018  WestTexNewMexico       2018      1   \n18247           0.0       organic  2018  WestTexNewMexico       2018      1   \n18248           0.0       organic  2018  WestTexNewMexico       2018      1   \n\n       day  \n0       27  \n1       20  \n2       13  \n3        6  \n4       29  \n...    ...  \n18244    4  \n18245   28  \n18246   21  \n18247   14  \n18248    7  \n\n[18249 rows x 17 columns]",
      "text/html": "<div>\n<style scoped>\n    .dataframe tbody tr th:only-of-type {\n        vertical-align: middle;\n    }\n\n    .dataframe tbody tr th {\n        vertical-align: top;\n    }\n\n    .dataframe thead th {\n        text-align: right;\n    }\n</style>\n<table border=\"1\" class=\"dataframe\">\n  <thead>\n    <tr style=\"text-align: right;\">\n      <th></th>\n      <th>Unnamed: 0</th>\n      <th>Date</th>\n      <th>average_price</th>\n      <th>total_volume</th>\n      <th>small_size</th>\n      <th>medium_size</th>\n      <th>large_size</th>\n      <th>total_bags</th>\n      <th>small_bags</th>\n      <th>large_bags</th>\n      <th>xLarge _bags</th>\n      <th>type</th>\n      <th>year</th>\n      <th>region</th>\n      <th>year_date</th>\n      <th>month</th>\n      <th>day</th>\n    </tr>\n  </thead>\n  <tbody>\n    <tr>\n      <th>0</th>\n      <td>0</td>\n      <td>2015-12-27</td>\n      <td>1.33</td>\n      <td>64236.62</td>\n      <td>1036.74</td>\n      <td>54454.85</td>\n      <td>48.16</td>\n      <td>8696.87</td>\n      <td>8603.62</td>\n      <td>93.25</td>\n      <td>0.0</td>\n      <td>conventional</td>\n      <td>2015</td>\n      <td>Albany</td>\n      <td>2015</td>\n      <td>12</td>\n      <td>27</td>\n    </tr>\n    <tr>\n      <th>1</th>\n      <td>1</td>\n      <td>2015-12-20</td>\n      <td>1.35</td>\n      <td>54876.98</td>\n      <td>674.28</td>\n      <td>44638.81</td>\n      <td>58.33</td>\n      <td>9505.56</td>\n      <td>9408.07</td>\n      <td>97.49</td>\n      <td>0.0</td>\n      <td>conventional</td>\n      <td>2015</td>\n      <td>Albany</td>\n      <td>2015</td>\n      <td>12</td>\n      <td>20</td>\n    </tr>\n    <tr>\n      <th>2</th>\n      <td>2</td>\n      <td>2015-12-13</td>\n      <td>0.93</td>\n      <td>118220.22</td>\n      <td>794.70</td>\n      <td>109149.67</td>\n      <td>130.50</td>\n      <td>8145.35</td>\n      <td>8042.21</td>\n      <td>103.14</td>\n      <td>0.0</td>\n      <td>conventional</td>\n      <td>2015</td>\n      <td>Albany</td>\n      <td>2015</td>\n      <td>12</td>\n      <td>13</td>\n    </tr>\n    <tr>\n      <th>3</th>\n      <td>3</td>\n      <td>2015-12-06</td>\n      <td>1.08</td>\n      <td>78992.15</td>\n      <td>1132.00</td>\n      <td>71976.41</td>\n      <td>72.58</td>\n      <td>5811.16</td>\n      <td>5677.40</td>\n      <td>133.76</td>\n      <td>0.0</td>\n      <td>conventional</td>\n      <td>2015</td>\n      <td>Albany</td>\n      <td>2015</td>\n      <td>12</td>\n      <td>6</td>\n    </tr>\n    <tr>\n      <th>4</th>\n      <td>4</td>\n      <td>2015-11-29</td>\n      <td>1.28</td>\n      <td>51039.60</td>\n      <td>941.48</td>\n      <td>43838.39</td>\n      <td>75.78</td>\n      <td>6183.95</td>\n      <td>5986.26</td>\n      <td>197.69</td>\n      <td>0.0</td>\n      <td>conventional</td>\n      <td>2015</td>\n      <td>Albany</td>\n      <td>2015</td>\n      <td>11</td>\n      <td>29</td>\n    </tr>\n    <tr>\n      <th>...</th>\n      <td>...</td>\n      <td>...</td>\n      <td>...</td>\n      <td>...</td>\n      <td>...</td>\n      <td>...</td>\n      <td>...</td>\n      <td>...</td>\n      <td>...</td>\n      <td>...</td>\n      <td>...</td>\n      <td>...</td>\n      <td>...</td>\n      <td>...</td>\n      <td>...</td>\n      <td>...</td>\n      <td>...</td>\n    </tr>\n    <tr>\n      <th>18244</th>\n      <td>7</td>\n      <td>2018-02-04</td>\n      <td>1.63</td>\n      <td>17074.83</td>\n      <td>2046.96</td>\n      <td>1529.20</td>\n      <td>0.00</td>\n      <td>13498.67</td>\n      <td>13066.82</td>\n      <td>431.85</td>\n      <td>0.0</td>\n      <td>organic</td>\n      <td>2018</td>\n      <td>WestTexNewMexico</td>\n      <td>2018</td>\n      <td>2</td>\n      <td>4</td>\n    </tr>\n    <tr>\n      <th>18245</th>\n      <td>8</td>\n      <td>2018-01-28</td>\n      <td>1.71</td>\n      <td>13888.04</td>\n      <td>1191.70</td>\n      <td>3431.50</td>\n      <td>0.00</td>\n      <td>9264.84</td>\n      <td>8940.04</td>\n      <td>324.80</td>\n      <td>0.0</td>\n      <td>organic</td>\n      <td>2018</td>\n      <td>WestTexNewMexico</td>\n      <td>2018</td>\n      <td>1</td>\n      <td>28</td>\n    </tr>\n    <tr>\n      <th>18246</th>\n      <td>9</td>\n      <td>2018-01-21</td>\n      <td>1.87</td>\n      <td>13766.76</td>\n      <td>1191.92</td>\n      <td>2452.79</td>\n      <td>727.94</td>\n      <td>9394.11</td>\n      <td>9351.80</td>\n      <td>42.31</td>\n      <td>0.0</td>\n      <td>organic</td>\n      <td>2018</td>\n      <td>WestTexNewMexico</td>\n      <td>2018</td>\n      <td>1</td>\n      <td>21</td>\n    </tr>\n    <tr>\n      <th>18247</th>\n      <td>10</td>\n      <td>2018-01-14</td>\n      <td>1.93</td>\n      <td>16205.22</td>\n      <td>1527.63</td>\n      <td>2981.04</td>\n      <td>727.01</td>\n      <td>10969.54</td>\n      <td>10919.54</td>\n      <td>50.00</td>\n      <td>0.0</td>\n      <td>organic</td>\n      <td>2018</td>\n      <td>WestTexNewMexico</td>\n      <td>2018</td>\n      <td>1</td>\n      <td>14</td>\n    </tr>\n    <tr>\n      <th>18248</th>\n      <td>11</td>\n      <td>2018-01-07</td>\n      <td>1.62</td>\n      <td>17489.58</td>\n      <td>2894.77</td>\n      <td>2356.13</td>\n      <td>224.53</td>\n      <td>12014.15</td>\n      <td>11988.14</td>\n      <td>26.01</td>\n      <td>0.0</td>\n      <td>organic</td>\n      <td>2018</td>\n      <td>WestTexNewMexico</td>\n      <td>2018</td>\n      <td>1</td>\n      <td>7</td>\n    </tr>\n  </tbody>\n</table>\n<p>18249 rows × 17 columns</p>\n</div>"
     },
     "execution_count": 269,
     "metadata": {},
     "output_type": "execute_result"
    }
   ],
   "source": [
    "avocado_df[\"Date\"] = pd.to_datetime(avocado_df[\"Date\"], format= \"%y/%m/%d\")\n",
    "avocado_df[\"year_date\"] = avocado_df[\"Date\"].dt.year\n",
    "avocado_df[\"month\"] = avocado_df[\"Date\"].dt.month\n",
    "avocado_df[\"day\"] = avocado_df[\"Date\"].dt.day\n",
    "avocado_df"
   ],
   "metadata": {
    "collapsed": false
   }
  },
  {
   "cell_type": "code",
   "execution_count": 270,
   "outputs": [
    {
     "name": "stdout",
     "output_type": "stream",
     "text": [
      "The average price of avocados per year:\n"
     ]
    },
    {
     "data": {
      "text/plain": "year\n2015    1.375590\n2016    1.338640\n2017    1.515128\n2018    1.347531\nName: average_price, dtype: float64"
     },
     "execution_count": 270,
     "metadata": {},
     "output_type": "execute_result"
    }
   ],
   "source": [
    "average_price_year = avocado_df.groupby(\"year\")[\"average_price\"].mean()\n",
    "print(\"The average price of avocados per year:\")\n",
    "average_price_year"
   ],
   "metadata": {
    "collapsed": false
   }
  },
  {
   "cell_type": "code",
   "execution_count": 271,
   "outputs": [
    {
     "name": "stdout",
     "output_type": "stream",
     "text": [
      "Total number of avocados sold per region every year:\n"
     ]
    },
    {
     "data": {
      "text/plain": "region            year\nAlbany            2015     4029896.43\n                  2016     5264335.59\n                  2017     5231581.78\n                  2018     1541986.17\nAtlanta           2015    23231698.12\n                             ...     \nWest              2018    92477085.01\nWestTexNewMexico  2015    41523998.11\n                  2016    43807431.60\n                  2017    47389589.29\n                  2018    11800820.78\nName: total_volume, Length: 216, dtype: float64"
     },
     "execution_count": 271,
     "metadata": {},
     "output_type": "execute_result"
    }
   ],
   "source": [
    "avo_region_year = avocado_df.groupby([\"region\", \"year\"])[\"total_volume\"].sum()\n",
    "print(\"Total number of avocados sold per region every year:\")\n",
    "avo_region_year"
   ],
   "metadata": {
    "collapsed": false
   }
  },
  {
   "cell_type": "code",
   "execution_count": 272,
   "outputs": [
    {
     "name": "stdout",
     "output_type": "stream",
     "text": [
      "Number of small sized avocados sold per year in each region:\n"
     ]
    },
    {
     "data": {
      "text/plain": "region            year\nAlbany            2015       55636.89\n                  2016      282658.72\n                  2017      170502.18\n                  2018      107741.85\nAtlanta           2015    18179848.08\n                             ...     \nWest              2018    29811160.83\nWestTexNewMexico  2015    26726893.18\n                  2016    25465275.80\n                  2017    26231542.68\n                  2018     5653674.19\nName: small_size, Length: 216, dtype: float64"
     },
     "execution_count": 272,
     "metadata": {},
     "output_type": "execute_result"
    }
   ],
   "source": [
    "num_small_size_sold = avocado_df.groupby([\"region\", \"year\"])[\"small_size\"].sum()\n",
    "print(\"Number of small sized avocados sold per year in each region:\")\n",
    "num_small_size_sold"
   ],
   "metadata": {
    "collapsed": false
   }
  },
  {
   "cell_type": "code",
   "execution_count": 273,
   "outputs": [
    {
     "name": "stdout",
     "output_type": "stream",
     "text": [
      "Number of medium sized avocados sold per year in each region:\n"
     ]
    },
    {
     "data": {
      "text/plain": "region            year\nAlbany            2015     3219826.60\n                  2016     4140017.73\n                  2017     4209517.84\n                  2018     1146606.22\nAtlanta           2015     2015450.55\n                             ...     \nWest              2018    23228949.51\nWestTexNewMexico  2015     8399580.69\n                  2016     5679287.15\n                  2017     5769786.11\n                  2018     2329809.27\nName: medium_size, Length: 216, dtype: float64"
     },
     "execution_count": 273,
     "metadata": {},
     "output_type": "execute_result"
    }
   ],
   "source": [
    "num_medium_size_sold = avocado_df.groupby([\"region\", \"year\"])[\"medium_size\"].sum()\n",
    "print(\"Number of medium sized avocados sold per year in each region:\")\n",
    "num_medium_size_sold"
   ],
   "metadata": {
    "collapsed": false
   }
  },
  {
   "cell_type": "code",
   "execution_count": 274,
   "outputs": [
    {
     "name": "stdout",
     "output_type": "stream",
     "text": [
      "Number of large sized avocados sold per year in each region:\n"
     ]
    },
    {
     "data": {
      "text/plain": "region            year\nAlbany            2015      34777.34\n                  2016       3359.23\n                  2017      16056.16\n                  2018        844.60\nAtlanta           2015      39408.62\n                             ...    \nWest              2018    1383681.63\nWestTexNewMexico  2015     869443.90\n                  2016    1388131.50\n                  2017     591075.82\n                  2018     120822.96\nName: large_size, Length: 216, dtype: float64"
     },
     "execution_count": 274,
     "metadata": {},
     "output_type": "execute_result"
    }
   ],
   "source": [
    "num_large_size_sold = avocado_df.groupby([\"region\", \"year\"])[\"large_size\"].sum()\n",
    "print(\"Number of large sized avocados sold per year in each region:\")\n",
    "num_large_size_sold"
   ],
   "metadata": {
    "collapsed": false
   }
  },
  {
   "cell_type": "code",
   "execution_count": 275,
   "outputs": [
    {
     "name": "stdout",
     "output_type": "stream",
     "text": [
      "Number of small sized avocados sold per year:\n"
     ]
    },
    {
     "data": {
      "text/plain": "year\n2015    1.709450e+09\n2016    1.525123e+09\n2017    1.652038e+09\n2018    4.604997e+08\nName: small_size, dtype: float64"
     },
     "execution_count": 275,
     "metadata": {},
     "output_type": "execute_result"
    }
   ],
   "source": [
    "yearly_small_size_sold = avocado_df.groupby(\"year\")[\"small_size\"].sum()\n",
    "print(\"Number of small sized avocados sold per year:\")\n",
    "yearly_small_size_sold"
   ],
   "metadata": {
    "collapsed": false
   }
  },
  {
   "cell_type": "code",
   "execution_count": 276,
   "outputs": [
    {
     "name": "stdout",
     "output_type": "stream",
     "text": [
      "Number of medium sized avocados sold per year:\n"
     ]
    },
    {
     "data": {
      "text/plain": "year\n2015    1.761054e+09\n2016    1.672728e+09\n2017    1.544735e+09\n2018    4.077587e+08\nName: medium_size, dtype: float64"
     },
     "execution_count": 276,
     "metadata": {},
     "output_type": "execute_result"
    }
   ],
   "source": [
    "yearly_medium_size_sold = avocado_df.groupby(\"year\")[\"medium_size\"].sum()\n",
    "print(\"Number of medium sized avocados sold per year:\")\n",
    "yearly_medium_size_sold"
   ],
   "metadata": {
    "collapsed": false
   }
  },
  {
   "cell_type": "code",
   "execution_count": 277,
   "outputs": [
    {
     "name": "stdout",
     "output_type": "stream",
     "text": [
      "Number of large sized avocados sold per year:\n"
     ]
    },
    {
     "data": {
      "text/plain": "year\n2015    1.427724e+08\n2016    1.598798e+08\n2017    9.121751e+07\n2018    2.293259e+07\nName: large_size, dtype: float64"
     },
     "execution_count": 277,
     "metadata": {},
     "output_type": "execute_result"
    }
   ],
   "source": [
    "yearly_large_size_sold = avocado_df.groupby(\"year\")[\"large_size\"].sum()\n",
    "print(\"Number of large sized avocados sold per year:\")\n",
    "yearly_large_size_sold"
   ],
   "metadata": {
    "collapsed": false
   }
  },
  {
   "cell_type": "markdown",
   "source": [
    "1. How has the average price of the avocados changed over the years?"
   ],
   "metadata": {
    "collapsed": false
   }
  },
  {
   "cell_type": "code",
   "execution_count": 278,
   "outputs": [
    {
     "data": {
      "text/plain": "year_date\n2015    1.375590\n2016    1.338640\n2017    1.515128\n2018    1.347531\nName: average_price, dtype: float64"
     },
     "execution_count": 278,
     "metadata": {},
     "output_type": "execute_result"
    }
   ],
   "source": [
    "grouped_df = avocado_df.groupby(\"year_date\")[\"average_price\"].mean()\n",
    "grouped_df"
   ],
   "metadata": {
    "collapsed": false
   }
  },
  {
   "cell_type": "code",
   "execution_count": 279,
   "outputs": [
    {
     "data": {
      "text/plain": "<Figure size 640x480 with 1 Axes>",
      "image/png": "[encoded data removed]"
     },
     "metadata": {},
     "output_type": "display_data"
    }
   ],
   "source": [
    "plt.plot(grouped_df.index, grouped_df.values)\n",
    "plt.xlabel(\"Year\")\n",
    "plt.ylabel(\"Average price\")\n",
    "plt.title(\"Average price of avocados over the years:\")\n",
    "plt.show()"
   ],
   "metadata": {
    "collapsed": false
   }
  },
  {
   "cell_type": "markdown",
   "source": [
    "In this table we can see that the price of avocados increase in the year 2017."
   ],
   "metadata": {
    "collapsed": false
   }
  },
  {
   "cell_type": "markdown",
   "source": [
    "2. Is there a difference in the average price between conventional and organic avocados?"
   ],
   "metadata": {
    "collapsed": false
   }
  },
  {
   "cell_type": "code",
   "execution_count": 280,
   "outputs": [
    {
     "data": {
      "text/plain": "           Type  Average price\n0  Conventional       1.158040\n1       Organic       1.653999",
      "text/html": "<div>\n<style scoped>\n    .dataframe tbody tr th:only-of-type {\n        vertical-align: middle;\n    }\n\n    .dataframe tbody tr th {\n        vertical-align: top;\n    }\n\n    .dataframe thead th {\n        text-align: right;\n    }\n</style>\n<table border=\"1\" class=\"dataframe\">\n  <thead>\n    <tr style=\"text-align: right;\">\n      <th></th>\n      <th>Type</th>\n      <th>Average price</th>\n    </tr>\n  </thead>\n  <tbody>\n    <tr>\n      <th>0</th>\n      <td>Conventional</td>\n      <td>1.158040</td>\n    </tr>\n    <tr>\n      <th>1</th>\n      <td>Organic</td>\n      <td>1.653999</td>\n    </tr>\n  </tbody>\n</table>\n</div>"
     },
     "execution_count": 280,
     "metadata": {},
     "output_type": "execute_result"
    }
   ],
   "source": [
    "conventional_avo = avocado_df[avocado_df[\"type\"] == \"conventional\"][\"average_price\"].mean()\n",
    "organic_avo = avocado_df[avocado_df[\"type\"] == \"organic\"][\"average_price\"].mean()\n",
    "\n",
    "comparison = pd.DataFrame({\n",
    "    \"Type\" : [\"Conventional\", \"Organic\"],\n",
    "    \"Average price\" : [conventional_avo,organic_avo]\n",
    "})\n",
    "\n",
    "comparison"
   ],
   "metadata": {
    "collapsed": false
   }
  },
  {
   "cell_type": "code",
   "execution_count": 281,
   "outputs": [
    {
     "data": {
      "text/plain": "<Figure size 640x480 with 1 Axes>",
      "image/png": "[encoded data removed]"
     },
     "metadata": {},
     "output_type": "display_data"
    }
   ],
   "source": [
    "plt.bar(comparison[\"Type\"],comparison[\"Average price\"])\n",
    "plt.xlabel(\"Type\")\n",
    "plt.ylabel(\"Average price\")\n",
    "plt.title(\"Difference in average price between conventional and organic avocados\")\n",
    "plt.show()"
   ],
   "metadata": {
    "collapsed": false
   }
  },
  {
   "cell_type": "markdown",
   "source": [
    "We can see that there is a difference in the average price of conventional avocados and organic avocados. The organic avocados cost a bit more."
   ],
   "metadata": {
    "collapsed": false
   }
  },
  {
   "cell_type": "markdown",
   "source": [
    "3. What is the relationship between the total volume of the total products sold and their average price?"
   ],
   "metadata": {
    "collapsed": false
   }
  },
  {
   "cell_type": "code",
   "execution_count": 282,
   "outputs": [
    {
     "data": {
      "text/plain": "<Figure size 640x480 with 1 Axes>",
      "image/png": "[encoded data removed]"
     },
     "metadata": {},
     "output_type": "display_data"
    }
   ],
   "source": [
    "plt.scatter(avocado_df[\"total_volume\"], avocado_df[\"average_price\"])\n",
    "plt.xlabel(\"Total volume\")\n",
    "plt.ylabel(\"Average price\")\n",
    "plt.title(\"Total volume and average price of avocados:\")\n",
    "plt.show()"
   ],
   "metadata": {
    "collapsed": false
   }
  },
  {
   "cell_type": "markdown",
   "source": [
    "Here we can see that the scatter plot shows that the volume avocados corresponds to the average price. It seems that the lower the volume the higher the average price."
   ],
   "metadata": {
    "collapsed": false
   }
  },
  {
   "cell_type": "markdown",
   "source": [
    "4. Has the volume of avocados sold increased or decreased through the given years?"
   ],
   "metadata": {
    "collapsed": false
   }
  },
  {
   "cell_type": "code",
   "execution_count": 283,
   "outputs": [
    {
     "data": {
      "text/plain": "<Figure size 640x480 with 1 Axes>",
      "image/png": "[encoded data removed]"
     },
     "metadata": {},
     "output_type": "display_data"
    }
   ],
   "source": [
    "regions_group = avocado_df.groupby(\"year\")[\"total_volume\"].sum()\n",
    "\n",
    "plt.plot(regions_group.index, regions_group.values)\n",
    "plt.xlabel(\"Year\")\n",
    "plt.ylabel(\"Total volume\")\n",
    "plt.title(\"Volume of avocados sold through the given years:\")\n",
    "plt.show()"
   ],
   "metadata": {
    "collapsed": false
   }
  },
  {
   "cell_type": "markdown",
   "source": [
    "We can see that from 2015 to 2017 the volume sold has increased and then by 2017 it decreased significantly towards 2018."
   ],
   "metadata": {
    "collapsed": false
   }
  },
  {
   "cell_type": "markdown",
   "source": [
    "Slutsats"
   ],
   "metadata": {
    "collapsed": false
   }
  },
  {
   "cell_type": "markdown",
   "source": [
    "This study is to conduct an analysis of the avocados sold in the specified areas. This includes the average price and volume of avocados sold between the year 2015 and 2018.\n",
    "\n",
    "We can see that the average price decreases from the year 2015 up to the year 2016 and then it increases and peaks at approximately the year 2017.  From then it gradually decreases towards the year 2018. We can also see a difference in the price between the types of avocados, namely conventional and organic, the latter being slightly more expensive. The average price also is affected by total volume of avocados.\n",
    "\n",
    "This study can be furtherly used to conduct a trend analysis for the determination of prices for avocados. However, with the given data it is limited. It could have been better if there will be an actual data for the actual price difference for each size of avocados. It could also have been better if there is a more specific data for the supply of avocados.\n",
    "\n",
    "Therefore, I believe that this analysis could be furtherly improved to get a more concise data if ever it shall be applied to machine learning. By doing this, it can provide a more accurate prediction for the viewer.\n"
   ],
   "metadata": {
    "collapsed": false
   }
  }
 ],
 "metadata": {
  "kernelspec": {
   "display_name": "Python 3 (ipykernel)",
   "language": "python",
   "name": "python3"
  },
  "language_info": {
   "codemirror_mode": {
    "name": "ipython",
    "version": 3
   },
   "file_extension": ".py",
   "mimetype": "text/x-python",
   "name": "python",
   "nbconvert_exporter": "python",
   "pygments_lexer": "ipython3",
   "version": "3.9.13"
  }
 },
 "nbformat": 4,
 "nbformat_minor": 5
}
